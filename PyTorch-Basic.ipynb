{
 "cells": [
  {
   "cell_type": "markdown",
   "metadata": {},
   "source": [
    "## What are Tensors?\n",
    "\n",
    "Tensors are a fundamental data structure used in the field of Machine Learning and scientific computing."
   ]
  },
  {
   "cell_type": "code",
   "execution_count": 1,
   "metadata": {},
   "outputs": [],
   "source": [
    "import torch"
   ]
  },
  {
   "cell_type": "code",
   "execution_count": 2,
   "metadata": {},
   "outputs": [
    {
     "name": "stdout",
     "output_type": "stream",
     "text": [
      "List :[0, 1, 2, 3, 4, 5, 6, 7, 8, 9]\n",
      "Tourch Tensor: tensor([0, 1, 2, 3, 4, 5, 6, 7, 8, 9])\n"
     ]
    },
    {
     "name": "stderr",
     "output_type": "stream",
     "text": [
      "C:\\Users\\ADMIN\\AppData\\Local\\Temp\\ipykernel_10108\\1248768064.py:6: UserWarning: Failed to initialize NumPy: No module named 'numpy' (Triggered internally at ..\\torch\\csrc\\utils\\tensor_numpy.cpp:84.)\n",
      "  a = torch.tensor(lst)\n"
     ]
    }
   ],
   "source": [
    "# Using a List\n",
    "\n",
    "lst = list(range(10))\n",
    "print(f'List :{lst}')\n",
    "\n",
    "a = torch.tensor(lst)\n",
    "print(f'Tourch Tensor: {a}')"
   ]
  },
  {
   "cell_type": "code",
   "execution_count": 3,
   "metadata": {},
   "outputs": [],
   "source": [
    "# Creating a 2D tensor (matrix)\n",
    "\n",
    "tensor_2d = torch.tensor([[1,2,3],\n",
    "                          [4,5,6]])\n",
    "\n",
    "# Creating a 3D tensor\n",
    "tensor_3d = torch.tensor([[[1,2,3],\n",
    "                           [4,5,6],\n",
    "                           [7,8,9],\n",
    "                           [10,11,12]]])\n",
    "\n",
    "# Creating a 4D tensor\n",
    "tensor_4d = torch.tensor([[[[1,2],\n",
    "                            [3,4]],\n",
    "                            [[5,6],\n",
    "                            [7,8]]],\n",
    "                            [[[9,10],\n",
    "                            [11,12]],\n",
    "                            [[13,14],\n",
    "                            [15,16]]]])"
   ]
  },
  {
   "cell_type": "code",
   "execution_count": 4,
   "metadata": {},
   "outputs": [
    {
     "name": "stdout",
     "output_type": "stream",
     "text": [
      "2D Tensor (Matrix):\n",
      "tensor([[1, 2, 3],\n",
      "        [4, 5, 6]])\n",
      "Shape: torch.Size([2, 3])\n",
      "\n",
      "3D Tensor (Matrix):\n",
      "tensor([[[ 1,  2,  3],\n",
      "         [ 4,  5,  6],\n",
      "         [ 7,  8,  9],\n",
      "         [10, 11, 12]]])\n",
      "Shape: torch.Size([1, 4, 3])\n",
      "\n",
      "4D Tensor (Matrix):\n",
      "tensor([[[[ 1,  2],\n",
      "          [ 3,  4]],\n",
      "\n",
      "         [[ 5,  6],\n",
      "          [ 7,  8]]],\n",
      "\n",
      "\n",
      "        [[[ 9, 10],\n",
      "          [11, 12]],\n",
      "\n",
      "         [[13, 14],\n",
      "          [15, 16]]]])\n",
      "Shape: torch.Size([2, 3])\n"
     ]
    }
   ],
   "source": [
    "# Print the tensors\n",
    "print('2D Tensor (Matrix):')\n",
    "print(tensor_2d)\n",
    "print('Shape:', tensor_2d.shape)\n",
    "\n",
    "print('\\n3D Tensor (Matrix):')\n",
    "print(tensor_3d)\n",
    "print('Shape:', tensor_3d.shape)\n",
    "\n",
    "print('\\n4D Tensor (Matrix):')\n",
    "print(tensor_4d)\n",
    "print('Shape:', tensor_2d.shape)"
   ]
  },
  {
   "cell_type": "code",
   "execution_count": 5,
   "metadata": {},
   "outputs": [
    {
     "data": {
      "text/plain": [
       "torch.int64"
      ]
     },
     "execution_count": 5,
     "metadata": {},
     "output_type": "execute_result"
    }
   ],
   "source": [
    "tensor_2d.dtype"
   ]
  },
  {
   "cell_type": "code",
   "execution_count": 8,
   "metadata": {},
   "outputs": [
    {
     "name": "stdout",
     "output_type": "stream",
     "text": [
      "Numpy array:[0 1 2 3 4 5 6 7 8 9] || datatype : <class 'numpy.ndarray'>\n"
     ]
    },
    {
     "ename": "RuntimeError",
     "evalue": "Numpy is not available",
     "output_type": "error",
     "traceback": [
      "\u001b[1;31m---------------------------------------------------------------------------\u001b[0m",
      "\u001b[1;31mRuntimeError\u001b[0m                              Traceback (most recent call last)",
      "Cell \u001b[1;32mIn[8], line 12\u001b[0m\n\u001b[0;32m      5\u001b[0m \u001b[38;5;28mprint\u001b[39m(\u001b[38;5;124mf\u001b[39m\u001b[38;5;124m\"\u001b[39m\u001b[38;5;124mNumpy array:\u001b[39m\u001b[38;5;132;01m{\u001b[39;00mnp_array\u001b[38;5;132;01m}\u001b[39;00m\u001b[38;5;124m || datatype : \u001b[39m\u001b[38;5;132;01m{\u001b[39;00m\u001b[38;5;28mtype\u001b[39m(np_array)\u001b[38;5;132;01m}\u001b[39;00m\u001b[38;5;124m\"\u001b[39m)\n\u001b[0;32m      7\u001b[0m \u001b[38;5;66;03m# Convert NumPy array to PyTorch tensor\u001b[39;00m\n\u001b[0;32m      8\u001b[0m \u001b[38;5;66;03m# torch_tensor = torch.tensor(np_array)\u001b[39;00m\n\u001b[0;32m      9\u001b[0m \n\u001b[0;32m     10\u001b[0m \u001b[38;5;66;03m# or\u001b[39;00m\n\u001b[1;32m---> 12\u001b[0m torch_tensor \u001b[38;5;241m=\u001b[39m \u001b[43mtorch\u001b[49m\u001b[38;5;241;43m.\u001b[39;49m\u001b[43mfrom_numpy\u001b[49m\u001b[43m(\u001b[49m\u001b[43mnp_array\u001b[49m\u001b[43m)\u001b[49m\n\u001b[0;32m     13\u001b[0m \u001b[38;5;28mprint\u001b[39m(\u001b[38;5;124mf\u001b[39m\u001b[38;5;124m\"\u001b[39m\u001b[38;5;124mTorch Tensor:\u001b[39m\u001b[38;5;132;01m{\u001b[39;00mtorch_tensor\u001b[38;5;132;01m}\u001b[39;00m\u001b[38;5;124m || datatype : \u001b[39m\u001b[38;5;132;01m{\u001b[39;00m\u001b[38;5;28mtype\u001b[39m(torch_tensor)\u001b[38;5;132;01m}\u001b[39;00m\u001b[38;5;124m\"\u001b[39m)\n\u001b[0;32m     15\u001b[0m \u001b[38;5;66;03m# Convert tensor to Numpy array\u001b[39;00m\n",
      "\u001b[1;31mRuntimeError\u001b[0m: Numpy is not available"
     ]
    }
   ],
   "source": [
    "# Using a Numpy Array\n",
    "import numpy as np\n",
    "\n",
    "np_array = np.array(list(range(10)))\n",
    "print(f\"Numpy array:{np_array} || datatype : {type(np_array)}\")\n",
    "\n",
    "# Convert NumPy array to PyTorch tensor\n",
    "# torch_tensor = torch.tensor(np_array)\n",
    "\n",
    "# or\n",
    "\n",
    "torch_tensor = torch.from_numpy(np_array)\n",
    "print(f\"Torch Tensor:{torch_tensor} || datatype : {type(torch_tensor)}\")\n",
    "\n",
    "# Convert tensor to Numpy array\n",
    "c = torch_tensor.numpy()\n",
    "print(f\"Numpy array:{c} || datatype : {type(c)}\")"
   ]
  },
  {
   "cell_type": "code",
   "execution_count": null,
   "metadata": {},
   "outputs": [],
   "source": []
  }
 ],
 "metadata": {
  "kernelspec": {
   "display_name": ".venv",
   "language": "python",
   "name": "python3"
  },
  "language_info": {
   "codemirror_mode": {
    "name": "ipython",
    "version": 3
   },
   "file_extension": ".py",
   "mimetype": "text/x-python",
   "name": "python",
   "nbconvert_exporter": "python",
   "pygments_lexer": "ipython3",
   "version": "3.12.3"
  }
 },
 "nbformat": 4,
 "nbformat_minor": 2
}
